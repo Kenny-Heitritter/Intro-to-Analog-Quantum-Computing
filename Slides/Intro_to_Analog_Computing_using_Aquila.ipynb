{
 "cells": [
  {
   "cell_type": "markdown",
   "id": "ff7719db",
   "metadata": {
    "slideshow": {
     "slide_type": "slide"
    }
   },
   "source": [
    "<h1 style=\"color:#B42424;text-align:center;vertical-align:middle;\">Introduction to Analog Quantum Computing using Aquila on AWS Braket<br>\n",
    "</h1>"
   ]
  },
  {
   "cell_type": "markdown",
   "id": "375f8be0",
   "metadata": {
    "slideshow": {
     "slide_type": "slide"
    }
   },
   "source": [
    "<h1 style=\"color:#B42424;\">Summary</h1>\n",
    "\n",
    "- Getting setup locally\n",
    "- Overview of Aquila\n",
    "- Steps to build an analog program\n",
    "- Batching\n",
    "- Demo: Simulate Abelian-Higgs (two-atom) Evolution"
   ]
  },
  {
   "cell_type": "markdown",
   "id": "575cde0f",
   "metadata": {
    "slideshow": {
     "slide_type": "slide"
    }
   },
   "source": [
    "<h1 style=\"color:#B42424;\">Getting setup locally</h1>"
   ]
  },
  {
   "cell_type": "markdown",
   "id": "1853a47d",
   "metadata": {
    "slideshow": {
     "slide_type": "subslide"
    }
   },
   "source": [
    "- You may want to classically simulate analog programs on your local computer before submitting to Aquila.\n",
    "- \n"
   ]
  }
 ],
 "metadata": {
  "celltoolbar": "Slideshow",
  "kernelspec": {
   "display_name": "Python 3 (ipykernel)",
   "language": "python",
   "name": "python3"
  },
  "language_info": {
   "codemirror_mode": {
    "name": "ipython",
    "version": 3
   },
   "file_extension": ".py",
   "mimetype": "text/x-python",
   "name": "python",
   "nbconvert_exporter": "python",
   "pygments_lexer": "ipython3",
   "version": "3.9.13"
  }
 },
 "nbformat": 4,
 "nbformat_minor": 5
}
